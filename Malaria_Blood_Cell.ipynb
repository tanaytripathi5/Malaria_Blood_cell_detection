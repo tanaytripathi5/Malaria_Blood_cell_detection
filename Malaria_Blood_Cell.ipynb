{
 "cells": [
  {
   "cell_type": "code",
   "execution_count": 23,
   "metadata": {},
   "outputs": [],
   "source": [
    "import numpy as np\n",
    "import tensorflow as tf\n",
    "import matplotlib.pyplot as plt\n",
    "from tensorflow.keras.preprocessing.image import ImageDataGenerator\n",
    "from sklearn.metrics import confusion_matrix\n",
    "from tensorflow.keras.preprocessing import image\n"
   ]
  },
  {
   "cell_type": "code",
   "execution_count": 2,
   "metadata": {},
   "outputs": [
    {
     "name": "stdout",
     "output_type": "stream",
     "text": [
      "GPU available (YESS!!!!)\n"
     ]
    }
   ],
   "source": [
    "print(\"GPU\", \"available (YESS!!!!)\" if tf.config.list_physical_devices(\"GPU\") else \"not available :(\")"
   ]
  },
  {
   "cell_type": "code",
   "execution_count": 3,
   "metadata": {},
   "outputs": [],
   "source": [
    "datagen = ImageDataGenerator(rescale =1./255,\n",
    "                            shear_range=0.2,\n",
    "                            zoom_range=0.2,\n",
    "                            horizontal_flip=True,\n",
    "                            validation_split=0.2,\n",
    "                            rotation_range=20)"
   ]
  },
  {
   "cell_type": "code",
   "execution_count": 4,
   "metadata": {},
   "outputs": [
    {
     "name": "stdout",
     "output_type": "stream",
     "text": [
      "Found 22048 images belonging to 2 classes.\n",
      "Found 5510 images belonging to 2 classes.\n"
     ]
    }
   ],
   "source": [
    "train_generator = datagen.flow_from_directory(r'D:\\Projects\\Malaria_Blood_Cell\\cell_images\\cell_images', \n",
    "                                              target_size = (139,130),\n",
    "                                              batch_size = 32,\n",
    "                                              class_mode ='binary',\n",
    "                                              subset='training')\n",
    "\n",
    "val_generator = datagen.flow_from_directory(r'D:\\Projects\\Malaria_Blood_Cell\\cell_images\\cell_images', \n",
    "                                              target_size = (139,130),\n",
    "                                              batch_size = 32,\n",
    "                                              class_mode ='binary',\n",
    "                                              subset='validation')"
   ]
  },
  {
   "cell_type": "code",
   "execution_count": 5,
   "metadata": {},
   "outputs": [],
   "source": [
    "cnn = tf.keras.models.Sequential()\n",
    "cnn.add(tf.keras.layers.Conv2D(filters=62,kernel_size =5,activation='relu',input_shape=[139,130,3]))\n",
    "cnn.add(tf.keras.layers.MaxPool2D(pool_size=2,strides=2))\n",
    "cnn.add(tf.keras.layers.Conv2D(filters=32,kernel_size =3,activation='relu'))\n",
    "cnn.add(tf.keras.layers.MaxPool2D(pool_size=2,strides=2))\n",
    "cnn.add(tf.keras.layers.Conv2D(filters=62,kernel_size =5,activation='relu'))\n",
    "cnn.add(tf.keras.layers.MaxPool2D(pool_size=2,strides=2))\n",
    "cnn.add(tf.keras.layers.Conv2D(filters=32,kernel_size =3,activation='relu'))\n",
    "cnn.add(tf.keras.layers.MaxPool2D(pool_size=2,strides=2))\n",
    "cnn.add(tf.keras.layers.Flatten())\n",
    "cnn.add(tf.keras.layers.Dense(units=128,activation='relu'))\n",
    "cnn.add(tf.keras.layers.Dense(units=1,activation='sigmoid'))\n"
   ]
  },
  {
   "cell_type": "code",
   "execution_count": 6,
   "metadata": {},
   "outputs": [
    {
     "name": "stdout",
     "output_type": "stream",
     "text": [
      "Model: \"sequential\"\n",
      "_________________________________________________________________\n",
      "Layer (type)                 Output Shape              Param #   \n",
      "=================================================================\n",
      "conv2d (Conv2D)              (None, 220, 220, 62)      4712      \n",
      "_________________________________________________________________\n",
      "max_pooling2d (MaxPooling2D) (None, 110, 110, 62)      0         \n",
      "_________________________________________________________________\n",
      "conv2d_1 (Conv2D)            (None, 108, 108, 32)      17888     \n",
      "_________________________________________________________________\n",
      "max_pooling2d_1 (MaxPooling2 (None, 54, 54, 32)        0         \n",
      "_________________________________________________________________\n",
      "conv2d_2 (Conv2D)            (None, 50, 50, 62)        49662     \n",
      "_________________________________________________________________\n",
      "max_pooling2d_2 (MaxPooling2 (None, 25, 25, 62)        0         \n",
      "_________________________________________________________________\n",
      "conv2d_3 (Conv2D)            (None, 23, 23, 32)        17888     \n",
      "_________________________________________________________________\n",
      "max_pooling2d_3 (MaxPooling2 (None, 11, 11, 32)        0         \n",
      "_________________________________________________________________\n",
      "flatten (Flatten)            (None, 3872)              0         \n",
      "_________________________________________________________________\n",
      "dense (Dense)                (None, 128)               495744    \n",
      "_________________________________________________________________\n",
      "dense_1 (Dense)              (None, 1)                 129       \n",
      "=================================================================\n",
      "Total params: 586,023\n",
      "Trainable params: 586,023\n",
      "Non-trainable params: 0\n",
      "_________________________________________________________________\n"
     ]
    }
   ],
   "source": [
    "cnn.compile(optimizer='adam',loss='binary_crossentropy',metrics=['accuracy'])\n",
    "cnn.summary()"
   ]
  },
  {
   "cell_type": "code",
   "execution_count": 7,
   "metadata": {},
   "outputs": [
    {
     "name": "stdout",
     "output_type": "stream",
     "text": [
      "Epoch 1/3\n",
      "689/689 [==============================] - 224s 325ms/step - loss: 0.4624 - accuracy: 0.7477 - val_loss: 0.2115 - val_accuracy: 0.9321\n",
      "Epoch 2/3\n",
      "689/689 [==============================] - 238s 345ms/step - loss: 0.1634 - accuracy: 0.9504 - val_loss: 0.1708 - val_accuracy: 0.9448\n",
      "Epoch 3/3\n",
      "689/689 [==============================] - 224s 325ms/step - loss: 0.1446 - accuracy: 0.9550 - val_loss: 0.1601 - val_accuracy: 0.9470\n"
     ]
    },
    {
     "data": {
      "text/plain": [
       "<tensorflow.python.keras.callbacks.History at 0x1e1e4b0fe20>"
      ]
     },
     "execution_count": 7,
     "metadata": {},
     "output_type": "execute_result"
    }
   ],
   "source": [
    "cnn.fit(train_generator,validation_data=val_generator,epochs=3,batch_size=32)"
   ]
  },
  {
   "cell_type": "code",
   "execution_count": 34,
   "metadata": {},
   "outputs": [
    {
     "name": "stdout",
     "output_type": "stream",
     "text": [
      "Uninfected\n"
     ]
    }
   ],
   "source": [
    "test_image = image.load_img(r'D:\\Projects\\Malaria_Blood_Cell\\cell_images\\cell_images\\Uninfected\\C1_thinF_IMG_20150604_104919_cell_183.png',target_size =(224,224))\n",
    "test_image = image.img_to_array(test_image)\n",
    "test_image = np.expand_dims(test_image,axis=0)\n",
    "result = cnn.predict(test_image)\n",
    "train_generator.class_indices\n",
    "if (result[0][0]==0):\n",
    "    prediction='Parasitized'\n",
    "else:\n",
    "    prediction='Uninfected'\n",
    "print(prediction)\n"
   ]
  },
  {
   "cell_type": "code",
   "execution_count": 35,
   "metadata": {},
   "outputs": [
    {
     "name": "stdout",
     "output_type": "stream",
     "text": [
      "Parasitized\n"
     ]
    }
   ],
   "source": [
    "test_image = image.load_img(r'D:\\Projects\\Malaria_Blood_Cell\\cell_images\\cell_images\\Parasitized\\C37BP2_thinF_IMG_20150620_133001a_cell_76.png',target_size =(224,224))\n",
    "test_image = image.img_to_array(test_image)\n",
    "test_image = np.expand_dims(test_image,axis=0)\n",
    "result = cnn.predict(test_image)\n",
    "train_generator.class_indices\n",
    "if (result[0][0]==0):\n",
    "    prediction='Parasitized'\n",
    "else:\n",
    "    prediction='Uninfected'\n",
    "print(prediction)"
   ]
  },
  {
   "cell_type": "code",
   "execution_count": null,
   "metadata": {},
   "outputs": [],
   "source": []
  }
 ],
 "metadata": {
  "kernelspec": {
   "display_name": "Python 3",
   "language": "python",
   "name": "python3"
  },
  "language_info": {
   "codemirror_mode": {
    "name": "ipython",
    "version": 3
   },
   "file_extension": ".py",
   "mimetype": "text/x-python",
   "name": "python",
   "nbconvert_exporter": "python",
   "pygments_lexer": "ipython3",
   "version": "3.8.3"
  }
 },
 "nbformat": 4,
 "nbformat_minor": 4
}
